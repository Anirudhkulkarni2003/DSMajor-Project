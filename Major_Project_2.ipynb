{
  "nbformat": 4,
  "nbformat_minor": 0,
  "metadata": {
    "colab": {
      "provenance": []
    },
    "kernelspec": {
      "name": "python3",
      "display_name": "Python 3"
    },
    "language_info": {
      "name": "python"
    }
  },
  "cells": [
    {
      "cell_type": "code",
      "execution_count": null,
      "metadata": {
        "id": "eQ8HRFLyVP5w"
      },
      "outputs": [],
      "source": [
        "##Major-Project 2 :-\n",
        "#ML Model for TV shows rating\n",
        "#Dataset :- https://www.kaggle.com/datasets/titassaha/top-rated-tv-shows"
      ]
    },
    {
      "cell_type": "code",
      "source": [
        "#1.Taking dataset and creating a Dataframe\n",
        "import pandas as pd\n",
        "df=pd.read_csv('/content/data_TV.csv')\n",
        "df"
      ],
      "metadata": {
        "id": "NegDgxcTjXg0",
        "colab": {
          "base_uri": "https://localhost:8080/",
          "height": 641
        },
        "outputId": "97592720-c6b4-4632-91dd-5680671f45e6"
      },
      "execution_count": 14,
      "outputs": [
        {
          "output_type": "execute_result",
          "data": {
            "text/plain": [
              "     first_air_date origin_country original_language               name  \\\n",
              "0        2021-09-03             US                en  The D'Amelio Show   \n",
              "1        2008-01-20             US                en       Breaking Bad   \n",
              "2        2021-11-06             US                en             Arcane   \n",
              "3        2013-12-02             US                en     Rick and Morty   \n",
              "4        2022-04-14             US                en    The Kardashians   \n",
              "...             ...            ...               ...                ...   \n",
              "2612     2002-06-11             US                en      American Idol   \n",
              "2613     2000-07-05             US                en        Big Brother   \n",
              "2614     1997-03-31             GB                en        Teletubbies   \n",
              "2615     1985-02-19             GB                en         EastEnders   \n",
              "2616     2006-10-09             CA                fr             La Job   \n",
              "\n",
              "      popularity  vote_average  vote_count  \\\n",
              "0         30.104           9.0        3071   \n",
              "1        468.253           8.8       10131   \n",
              "2         95.667           8.7        2615   \n",
              "3       1511.996           8.7        7220   \n",
              "4        195.038           8.7        1627   \n",
              "...          ...           ...         ...   \n",
              "2612      34.052           5.2         135   \n",
              "2613      47.029           4.9         190   \n",
              "2614      36.875           4.1         108   \n",
              "2615     108.720           3.9         183   \n",
              "2616       6.968           0.6         162   \n",
              "\n",
              "                                               overview  \n",
              "0     From relative obscurity and a seemingly normal...  \n",
              "1     When Walter White, a New Mexico chemistry teac...  \n",
              "2     Amid the stark discord of twin cities Piltover...  \n",
              "3     Rick is a mentally-unbalanced but scientifical...  \n",
              "4     The family you know and love is here with a br...  \n",
              "...                                                 ...  \n",
              "2612  Each year, hopeful singers from all over the c...  \n",
              "2613  American version of the reality game show whic...  \n",
              "2614  Pre-school fun, fantasy and education with col...  \n",
              "2615  The everyday lives of working-class residents ...  \n",
              "2616  La Job is a French Canadian comedy television ...  \n",
              "\n",
              "[2617 rows x 8 columns]"
            ],
            "text/html": [
              "\n",
              "  <div id=\"df-85f433a7-9ffe-4bea-94c0-e320d46f7d07\">\n",
              "    <div class=\"colab-df-container\">\n",
              "      <div>\n",
              "<style scoped>\n",
              "    .dataframe tbody tr th:only-of-type {\n",
              "        vertical-align: middle;\n",
              "    }\n",
              "\n",
              "    .dataframe tbody tr th {\n",
              "        vertical-align: top;\n",
              "    }\n",
              "\n",
              "    .dataframe thead th {\n",
              "        text-align: right;\n",
              "    }\n",
              "</style>\n",
              "<table border=\"1\" class=\"dataframe\">\n",
              "  <thead>\n",
              "    <tr style=\"text-align: right;\">\n",
              "      <th></th>\n",
              "      <th>first_air_date</th>\n",
              "      <th>origin_country</th>\n",
              "      <th>original_language</th>\n",
              "      <th>name</th>\n",
              "      <th>popularity</th>\n",
              "      <th>vote_average</th>\n",
              "      <th>vote_count</th>\n",
              "      <th>overview</th>\n",
              "    </tr>\n",
              "  </thead>\n",
              "  <tbody>\n",
              "    <tr>\n",
              "      <th>0</th>\n",
              "      <td>2021-09-03</td>\n",
              "      <td>US</td>\n",
              "      <td>en</td>\n",
              "      <td>The D'Amelio Show</td>\n",
              "      <td>30.104</td>\n",
              "      <td>9.0</td>\n",
              "      <td>3071</td>\n",
              "      <td>From relative obscurity and a seemingly normal...</td>\n",
              "    </tr>\n",
              "    <tr>\n",
              "      <th>1</th>\n",
              "      <td>2008-01-20</td>\n",
              "      <td>US</td>\n",
              "      <td>en</td>\n",
              "      <td>Breaking Bad</td>\n",
              "      <td>468.253</td>\n",
              "      <td>8.8</td>\n",
              "      <td>10131</td>\n",
              "      <td>When Walter White, a New Mexico chemistry teac...</td>\n",
              "    </tr>\n",
              "    <tr>\n",
              "      <th>2</th>\n",
              "      <td>2021-11-06</td>\n",
              "      <td>US</td>\n",
              "      <td>en</td>\n",
              "      <td>Arcane</td>\n",
              "      <td>95.667</td>\n",
              "      <td>8.7</td>\n",
              "      <td>2615</td>\n",
              "      <td>Amid the stark discord of twin cities Piltover...</td>\n",
              "    </tr>\n",
              "    <tr>\n",
              "      <th>3</th>\n",
              "      <td>2013-12-02</td>\n",
              "      <td>US</td>\n",
              "      <td>en</td>\n",
              "      <td>Rick and Morty</td>\n",
              "      <td>1511.996</td>\n",
              "      <td>8.7</td>\n",
              "      <td>7220</td>\n",
              "      <td>Rick is a mentally-unbalanced but scientifical...</td>\n",
              "    </tr>\n",
              "    <tr>\n",
              "      <th>4</th>\n",
              "      <td>2022-04-14</td>\n",
              "      <td>US</td>\n",
              "      <td>en</td>\n",
              "      <td>The Kardashians</td>\n",
              "      <td>195.038</td>\n",
              "      <td>8.7</td>\n",
              "      <td>1627</td>\n",
              "      <td>The family you know and love is here with a br...</td>\n",
              "    </tr>\n",
              "    <tr>\n",
              "      <th>...</th>\n",
              "      <td>...</td>\n",
              "      <td>...</td>\n",
              "      <td>...</td>\n",
              "      <td>...</td>\n",
              "      <td>...</td>\n",
              "      <td>...</td>\n",
              "      <td>...</td>\n",
              "      <td>...</td>\n",
              "    </tr>\n",
              "    <tr>\n",
              "      <th>2612</th>\n",
              "      <td>2002-06-11</td>\n",
              "      <td>US</td>\n",
              "      <td>en</td>\n",
              "      <td>American Idol</td>\n",
              "      <td>34.052</td>\n",
              "      <td>5.2</td>\n",
              "      <td>135</td>\n",
              "      <td>Each year, hopeful singers from all over the c...</td>\n",
              "    </tr>\n",
              "    <tr>\n",
              "      <th>2613</th>\n",
              "      <td>2000-07-05</td>\n",
              "      <td>US</td>\n",
              "      <td>en</td>\n",
              "      <td>Big Brother</td>\n",
              "      <td>47.029</td>\n",
              "      <td>4.9</td>\n",
              "      <td>190</td>\n",
              "      <td>American version of the reality game show whic...</td>\n",
              "    </tr>\n",
              "    <tr>\n",
              "      <th>2614</th>\n",
              "      <td>1997-03-31</td>\n",
              "      <td>GB</td>\n",
              "      <td>en</td>\n",
              "      <td>Teletubbies</td>\n",
              "      <td>36.875</td>\n",
              "      <td>4.1</td>\n",
              "      <td>108</td>\n",
              "      <td>Pre-school fun, fantasy and education with col...</td>\n",
              "    </tr>\n",
              "    <tr>\n",
              "      <th>2615</th>\n",
              "      <td>1985-02-19</td>\n",
              "      <td>GB</td>\n",
              "      <td>en</td>\n",
              "      <td>EastEnders</td>\n",
              "      <td>108.720</td>\n",
              "      <td>3.9</td>\n",
              "      <td>183</td>\n",
              "      <td>The everyday lives of working-class residents ...</td>\n",
              "    </tr>\n",
              "    <tr>\n",
              "      <th>2616</th>\n",
              "      <td>2006-10-09</td>\n",
              "      <td>CA</td>\n",
              "      <td>fr</td>\n",
              "      <td>La Job</td>\n",
              "      <td>6.968</td>\n",
              "      <td>0.6</td>\n",
              "      <td>162</td>\n",
              "      <td>La Job is a French Canadian comedy television ...</td>\n",
              "    </tr>\n",
              "  </tbody>\n",
              "</table>\n",
              "<p>2617 rows × 8 columns</p>\n",
              "</div>\n",
              "      <button class=\"colab-df-convert\" onclick=\"convertToInteractive('df-85f433a7-9ffe-4bea-94c0-e320d46f7d07')\"\n",
              "              title=\"Convert this dataframe to an interactive table.\"\n",
              "              style=\"display:none;\">\n",
              "        \n",
              "  <svg xmlns=\"http://www.w3.org/2000/svg\" height=\"24px\"viewBox=\"0 0 24 24\"\n",
              "       width=\"24px\">\n",
              "    <path d=\"M0 0h24v24H0V0z\" fill=\"none\"/>\n",
              "    <path d=\"M18.56 5.44l.94 2.06.94-2.06 2.06-.94-2.06-.94-.94-2.06-.94 2.06-2.06.94zm-11 1L8.5 8.5l.94-2.06 2.06-.94-2.06-.94L8.5 2.5l-.94 2.06-2.06.94zm10 10l.94 2.06.94-2.06 2.06-.94-2.06-.94-.94-2.06-.94 2.06-2.06.94z\"/><path d=\"M17.41 7.96l-1.37-1.37c-.4-.4-.92-.59-1.43-.59-.52 0-1.04.2-1.43.59L10.3 9.45l-7.72 7.72c-.78.78-.78 2.05 0 2.83L4 21.41c.39.39.9.59 1.41.59.51 0 1.02-.2 1.41-.59l7.78-7.78 2.81-2.81c.8-.78.8-2.07 0-2.86zM5.41 20L4 18.59l7.72-7.72 1.47 1.35L5.41 20z\"/>\n",
              "  </svg>\n",
              "      </button>\n",
              "      \n",
              "  <style>\n",
              "    .colab-df-container {\n",
              "      display:flex;\n",
              "      flex-wrap:wrap;\n",
              "      gap: 12px;\n",
              "    }\n",
              "\n",
              "    .colab-df-convert {\n",
              "      background-color: #E8F0FE;\n",
              "      border: none;\n",
              "      border-radius: 50%;\n",
              "      cursor: pointer;\n",
              "      display: none;\n",
              "      fill: #1967D2;\n",
              "      height: 32px;\n",
              "      padding: 0 0 0 0;\n",
              "      width: 32px;\n",
              "    }\n",
              "\n",
              "    .colab-df-convert:hover {\n",
              "      background-color: #E2EBFA;\n",
              "      box-shadow: 0px 1px 2px rgba(60, 64, 67, 0.3), 0px 1px 3px 1px rgba(60, 64, 67, 0.15);\n",
              "      fill: #174EA6;\n",
              "    }\n",
              "\n",
              "    [theme=dark] .colab-df-convert {\n",
              "      background-color: #3B4455;\n",
              "      fill: #D2E3FC;\n",
              "    }\n",
              "\n",
              "    [theme=dark] .colab-df-convert:hover {\n",
              "      background-color: #434B5C;\n",
              "      box-shadow: 0px 1px 3px 1px rgba(0, 0, 0, 0.15);\n",
              "      filter: drop-shadow(0px 1px 2px rgba(0, 0, 0, 0.3));\n",
              "      fill: #FFFFFF;\n",
              "    }\n",
              "  </style>\n",
              "\n",
              "      <script>\n",
              "        const buttonEl =\n",
              "          document.querySelector('#df-85f433a7-9ffe-4bea-94c0-e320d46f7d07 button.colab-df-convert');\n",
              "        buttonEl.style.display =\n",
              "          google.colab.kernel.accessAllowed ? 'block' : 'none';\n",
              "\n",
              "        async function convertToInteractive(key) {\n",
              "          const element = document.querySelector('#df-85f433a7-9ffe-4bea-94c0-e320d46f7d07');\n",
              "          const dataTable =\n",
              "            await google.colab.kernel.invokeFunction('convertToInteractive',\n",
              "                                                     [key], {});\n",
              "          if (!dataTable) return;\n",
              "\n",
              "          const docLinkHtml = 'Like what you see? Visit the ' +\n",
              "            '<a target=\"_blank\" href=https://colab.research.google.com/notebooks/data_table.ipynb>data table notebook</a>'\n",
              "            + ' to learn more about interactive tables.';\n",
              "          element.innerHTML = '';\n",
              "          dataTable['output_type'] = 'display_data';\n",
              "          await google.colab.output.renderOutput(dataTable, element);\n",
              "          const docLink = document.createElement('div');\n",
              "          docLink.innerHTML = docLinkHtml;\n",
              "          element.appendChild(docLink);\n",
              "        }\n",
              "      </script>\n",
              "    </div>\n",
              "  </div>\n",
              "  "
            ]
          },
          "metadata": {},
          "execution_count": 14
        }
      ]
    },
    {
      "cell_type": "code",
      "source": [
        "#2.Preprocessing(EDA)\n",
        "df.info()"
      ],
      "metadata": {
        "colab": {
          "base_uri": "https://localhost:8080/"
        },
        "id": "1985zX-Xx1fo",
        "outputId": "6c78ad37-40c7-4e9a-ce0a-02eacd143b21"
      },
      "execution_count": 15,
      "outputs": [
        {
          "output_type": "stream",
          "name": "stdout",
          "text": [
            "<class 'pandas.core.frame.DataFrame'>\n",
            "RangeIndex: 2617 entries, 0 to 2616\n",
            "Data columns (total 8 columns):\n",
            " #   Column             Non-Null Count  Dtype  \n",
            "---  ------             --------------  -----  \n",
            " 0   first_air_date     2611 non-null   object \n",
            " 1   origin_country     2617 non-null   object \n",
            " 2   original_language  2617 non-null   object \n",
            " 3   name               2617 non-null   object \n",
            " 4   popularity         2617 non-null   float64\n",
            " 5   vote_average       2617 non-null   float64\n",
            " 6   vote_count         2617 non-null   int64  \n",
            " 7   overview           2552 non-null   object \n",
            "dtypes: float64(2), int64(1), object(5)\n",
            "memory usage: 163.7+ KB\n"
          ]
        }
      ]
    },
    {
      "cell_type": "code",
      "source": [
        "df.shape"
      ],
      "metadata": {
        "colab": {
          "base_uri": "https://localhost:8080/"
        },
        "id": "TytwHqv86r_w",
        "outputId": "ba59287f-3c40-43b8-8417-80349c92bc0e"
      },
      "execution_count": 16,
      "outputs": [
        {
          "output_type": "execute_result",
          "data": {
            "text/plain": [
              "(2617, 8)"
            ]
          },
          "metadata": {},
          "execution_count": 16
        }
      ]
    },
    {
      "cell_type": "code",
      "source": [
        "df.size"
      ],
      "metadata": {
        "colab": {
          "base_uri": "https://localhost:8080/"
        },
        "id": "6EJng_GF1_dQ",
        "outputId": "68ca8812-04b6-4078-dd75-4dfd78279590"
      },
      "execution_count": 17,
      "outputs": [
        {
          "output_type": "execute_result",
          "data": {
            "text/plain": [
              "20936"
            ]
          },
          "metadata": {},
          "execution_count": 17
        }
      ]
    },
    {
      "cell_type": "code",
      "source": [
        "df.isnull().sum()"
      ],
      "metadata": {
        "colab": {
          "base_uri": "https://localhost:8080/"
        },
        "id": "DSYGzVs082kr",
        "outputId": "16bef1bf-5021-4ba0-872c-d44b1b3ba6fc"
      },
      "execution_count": 18,
      "outputs": [
        {
          "output_type": "execute_result",
          "data": {
            "text/plain": [
              "first_air_date        6\n",
              "origin_country        0\n",
              "original_language     0\n",
              "name                  0\n",
              "popularity            0\n",
              "vote_average          0\n",
              "vote_count            0\n",
              "overview             65\n",
              "dtype: int64"
            ]
          },
          "metadata": {},
          "execution_count": 18
        }
      ]
    },
    {
      "cell_type": "code",
      "source": [
        "df=df.drop(['overview'],axis=1)\n",
        "df"
      ],
      "metadata": {
        "colab": {
          "base_uri": "https://localhost:8080/",
          "height": 424
        },
        "id": "7Rihn0Tr7W1C",
        "outputId": "dec8871f-c703-4415-c14f-7d549abc1296"
      },
      "execution_count": 19,
      "outputs": [
        {
          "output_type": "execute_result",
          "data": {
            "text/plain": [
              "     first_air_date origin_country original_language               name  \\\n",
              "0        2021-09-03             US                en  The D'Amelio Show   \n",
              "1        2008-01-20             US                en       Breaking Bad   \n",
              "2        2021-11-06             US                en             Arcane   \n",
              "3        2013-12-02             US                en     Rick and Morty   \n",
              "4        2022-04-14             US                en    The Kardashians   \n",
              "...             ...            ...               ...                ...   \n",
              "2612     2002-06-11             US                en      American Idol   \n",
              "2613     2000-07-05             US                en        Big Brother   \n",
              "2614     1997-03-31             GB                en        Teletubbies   \n",
              "2615     1985-02-19             GB                en         EastEnders   \n",
              "2616     2006-10-09             CA                fr             La Job   \n",
              "\n",
              "      popularity  vote_average  vote_count  \n",
              "0         30.104           9.0        3071  \n",
              "1        468.253           8.8       10131  \n",
              "2         95.667           8.7        2615  \n",
              "3       1511.996           8.7        7220  \n",
              "4        195.038           8.7        1627  \n",
              "...          ...           ...         ...  \n",
              "2612      34.052           5.2         135  \n",
              "2613      47.029           4.9         190  \n",
              "2614      36.875           4.1         108  \n",
              "2615     108.720           3.9         183  \n",
              "2616       6.968           0.6         162  \n",
              "\n",
              "[2617 rows x 7 columns]"
            ],
            "text/html": [
              "\n",
              "  <div id=\"df-45e615e2-029b-48ff-8d11-0119b13b1345\">\n",
              "    <div class=\"colab-df-container\">\n",
              "      <div>\n",
              "<style scoped>\n",
              "    .dataframe tbody tr th:only-of-type {\n",
              "        vertical-align: middle;\n",
              "    }\n",
              "\n",
              "    .dataframe tbody tr th {\n",
              "        vertical-align: top;\n",
              "    }\n",
              "\n",
              "    .dataframe thead th {\n",
              "        text-align: right;\n",
              "    }\n",
              "</style>\n",
              "<table border=\"1\" class=\"dataframe\">\n",
              "  <thead>\n",
              "    <tr style=\"text-align: right;\">\n",
              "      <th></th>\n",
              "      <th>first_air_date</th>\n",
              "      <th>origin_country</th>\n",
              "      <th>original_language</th>\n",
              "      <th>name</th>\n",
              "      <th>popularity</th>\n",
              "      <th>vote_average</th>\n",
              "      <th>vote_count</th>\n",
              "    </tr>\n",
              "  </thead>\n",
              "  <tbody>\n",
              "    <tr>\n",
              "      <th>0</th>\n",
              "      <td>2021-09-03</td>\n",
              "      <td>US</td>\n",
              "      <td>en</td>\n",
              "      <td>The D'Amelio Show</td>\n",
              "      <td>30.104</td>\n",
              "      <td>9.0</td>\n",
              "      <td>3071</td>\n",
              "    </tr>\n",
              "    <tr>\n",
              "      <th>1</th>\n",
              "      <td>2008-01-20</td>\n",
              "      <td>US</td>\n",
              "      <td>en</td>\n",
              "      <td>Breaking Bad</td>\n",
              "      <td>468.253</td>\n",
              "      <td>8.8</td>\n",
              "      <td>10131</td>\n",
              "    </tr>\n",
              "    <tr>\n",
              "      <th>2</th>\n",
              "      <td>2021-11-06</td>\n",
              "      <td>US</td>\n",
              "      <td>en</td>\n",
              "      <td>Arcane</td>\n",
              "      <td>95.667</td>\n",
              "      <td>8.7</td>\n",
              "      <td>2615</td>\n",
              "    </tr>\n",
              "    <tr>\n",
              "      <th>3</th>\n",
              "      <td>2013-12-02</td>\n",
              "      <td>US</td>\n",
              "      <td>en</td>\n",
              "      <td>Rick and Morty</td>\n",
              "      <td>1511.996</td>\n",
              "      <td>8.7</td>\n",
              "      <td>7220</td>\n",
              "    </tr>\n",
              "    <tr>\n",
              "      <th>4</th>\n",
              "      <td>2022-04-14</td>\n",
              "      <td>US</td>\n",
              "      <td>en</td>\n",
              "      <td>The Kardashians</td>\n",
              "      <td>195.038</td>\n",
              "      <td>8.7</td>\n",
              "      <td>1627</td>\n",
              "    </tr>\n",
              "    <tr>\n",
              "      <th>...</th>\n",
              "      <td>...</td>\n",
              "      <td>...</td>\n",
              "      <td>...</td>\n",
              "      <td>...</td>\n",
              "      <td>...</td>\n",
              "      <td>...</td>\n",
              "      <td>...</td>\n",
              "    </tr>\n",
              "    <tr>\n",
              "      <th>2612</th>\n",
              "      <td>2002-06-11</td>\n",
              "      <td>US</td>\n",
              "      <td>en</td>\n",
              "      <td>American Idol</td>\n",
              "      <td>34.052</td>\n",
              "      <td>5.2</td>\n",
              "      <td>135</td>\n",
              "    </tr>\n",
              "    <tr>\n",
              "      <th>2613</th>\n",
              "      <td>2000-07-05</td>\n",
              "      <td>US</td>\n",
              "      <td>en</td>\n",
              "      <td>Big Brother</td>\n",
              "      <td>47.029</td>\n",
              "      <td>4.9</td>\n",
              "      <td>190</td>\n",
              "    </tr>\n",
              "    <tr>\n",
              "      <th>2614</th>\n",
              "      <td>1997-03-31</td>\n",
              "      <td>GB</td>\n",
              "      <td>en</td>\n",
              "      <td>Teletubbies</td>\n",
              "      <td>36.875</td>\n",
              "      <td>4.1</td>\n",
              "      <td>108</td>\n",
              "    </tr>\n",
              "    <tr>\n",
              "      <th>2615</th>\n",
              "      <td>1985-02-19</td>\n",
              "      <td>GB</td>\n",
              "      <td>en</td>\n",
              "      <td>EastEnders</td>\n",
              "      <td>108.720</td>\n",
              "      <td>3.9</td>\n",
              "      <td>183</td>\n",
              "    </tr>\n",
              "    <tr>\n",
              "      <th>2616</th>\n",
              "      <td>2006-10-09</td>\n",
              "      <td>CA</td>\n",
              "      <td>fr</td>\n",
              "      <td>La Job</td>\n",
              "      <td>6.968</td>\n",
              "      <td>0.6</td>\n",
              "      <td>162</td>\n",
              "    </tr>\n",
              "  </tbody>\n",
              "</table>\n",
              "<p>2617 rows × 7 columns</p>\n",
              "</div>\n",
              "      <button class=\"colab-df-convert\" onclick=\"convertToInteractive('df-45e615e2-029b-48ff-8d11-0119b13b1345')\"\n",
              "              title=\"Convert this dataframe to an interactive table.\"\n",
              "              style=\"display:none;\">\n",
              "        \n",
              "  <svg xmlns=\"http://www.w3.org/2000/svg\" height=\"24px\"viewBox=\"0 0 24 24\"\n",
              "       width=\"24px\">\n",
              "    <path d=\"M0 0h24v24H0V0z\" fill=\"none\"/>\n",
              "    <path d=\"M18.56 5.44l.94 2.06.94-2.06 2.06-.94-2.06-.94-.94-2.06-.94 2.06-2.06.94zm-11 1L8.5 8.5l.94-2.06 2.06-.94-2.06-.94L8.5 2.5l-.94 2.06-2.06.94zm10 10l.94 2.06.94-2.06 2.06-.94-2.06-.94-.94-2.06-.94 2.06-2.06.94z\"/><path d=\"M17.41 7.96l-1.37-1.37c-.4-.4-.92-.59-1.43-.59-.52 0-1.04.2-1.43.59L10.3 9.45l-7.72 7.72c-.78.78-.78 2.05 0 2.83L4 21.41c.39.39.9.59 1.41.59.51 0 1.02-.2 1.41-.59l7.78-7.78 2.81-2.81c.8-.78.8-2.07 0-2.86zM5.41 20L4 18.59l7.72-7.72 1.47 1.35L5.41 20z\"/>\n",
              "  </svg>\n",
              "      </button>\n",
              "      \n",
              "  <style>\n",
              "    .colab-df-container {\n",
              "      display:flex;\n",
              "      flex-wrap:wrap;\n",
              "      gap: 12px;\n",
              "    }\n",
              "\n",
              "    .colab-df-convert {\n",
              "      background-color: #E8F0FE;\n",
              "      border: none;\n",
              "      border-radius: 50%;\n",
              "      cursor: pointer;\n",
              "      display: none;\n",
              "      fill: #1967D2;\n",
              "      height: 32px;\n",
              "      padding: 0 0 0 0;\n",
              "      width: 32px;\n",
              "    }\n",
              "\n",
              "    .colab-df-convert:hover {\n",
              "      background-color: #E2EBFA;\n",
              "      box-shadow: 0px 1px 2px rgba(60, 64, 67, 0.3), 0px 1px 3px 1px rgba(60, 64, 67, 0.15);\n",
              "      fill: #174EA6;\n",
              "    }\n",
              "\n",
              "    [theme=dark] .colab-df-convert {\n",
              "      background-color: #3B4455;\n",
              "      fill: #D2E3FC;\n",
              "    }\n",
              "\n",
              "    [theme=dark] .colab-df-convert:hover {\n",
              "      background-color: #434B5C;\n",
              "      box-shadow: 0px 1px 3px 1px rgba(0, 0, 0, 0.15);\n",
              "      filter: drop-shadow(0px 1px 2px rgba(0, 0, 0, 0.3));\n",
              "      fill: #FFFFFF;\n",
              "    }\n",
              "  </style>\n",
              "\n",
              "      <script>\n",
              "        const buttonEl =\n",
              "          document.querySelector('#df-45e615e2-029b-48ff-8d11-0119b13b1345 button.colab-df-convert');\n",
              "        buttonEl.style.display =\n",
              "          google.colab.kernel.accessAllowed ? 'block' : 'none';\n",
              "\n",
              "        async function convertToInteractive(key) {\n",
              "          const element = document.querySelector('#df-45e615e2-029b-48ff-8d11-0119b13b1345');\n",
              "          const dataTable =\n",
              "            await google.colab.kernel.invokeFunction('convertToInteractive',\n",
              "                                                     [key], {});\n",
              "          if (!dataTable) return;\n",
              "\n",
              "          const docLinkHtml = 'Like what you see? Visit the ' +\n",
              "            '<a target=\"_blank\" href=https://colab.research.google.com/notebooks/data_table.ipynb>data table notebook</a>'\n",
              "            + ' to learn more about interactive tables.';\n",
              "          element.innerHTML = '';\n",
              "          dataTable['output_type'] = 'display_data';\n",
              "          await google.colab.output.renderOutput(dataTable, element);\n",
              "          const docLink = document.createElement('div');\n",
              "          docLink.innerHTML = docLinkHtml;\n",
              "          element.appendChild(docLink);\n",
              "        }\n",
              "      </script>\n",
              "    </div>\n",
              "  </div>\n",
              "  "
            ]
          },
          "metadata": {},
          "execution_count": 19
        }
      ]
    },
    {
      "cell_type": "code",
      "source": [
        "df.shape"
      ],
      "metadata": {
        "colab": {
          "base_uri": "https://localhost:8080/"
        },
        "id": "AMtywds77XCK",
        "outputId": "590179d0-9801-42a8-d6ec-10ca03fede4b"
      },
      "execution_count": 20,
      "outputs": [
        {
          "output_type": "execute_result",
          "data": {
            "text/plain": [
              "(2617, 7)"
            ]
          },
          "metadata": {},
          "execution_count": 20
        }
      ]
    },
    {
      "cell_type": "code",
      "source": [
        "#3.Visualisation\n",
        "import matplotlib.pyplot as plt\n",
        "plt.scatter(df['vote_average'],df['vote_count'])"
      ],
      "metadata": {
        "colab": {
          "base_uri": "https://localhost:8080/",
          "height": 282
        },
        "id": "2_TOm_61DgMr",
        "outputId": "c0ce2619-44e0-4421-f719-117418d7daaa"
      },
      "execution_count": 22,
      "outputs": [
        {
          "output_type": "execute_result",
          "data": {
            "text/plain": [
              "<matplotlib.collections.PathCollection at 0x7f6ce04389a0>"
            ]
          },
          "metadata": {},
          "execution_count": 22
        },
        {
          "output_type": "display_data",
          "data": {
            "text/plain": [
              "<Figure size 432x288 with 1 Axes>"
            ],
            "image/png": "[encoded data removed]"
          },
          "metadata": {
            "needs_background": "light"
          }
        }
      ]
    },
    {
      "cell_type": "code",
      "source": [
        "#4.divide the data into input\n",
        "#Input - vote_count (k), vote_average(1-10) \n",
        "x=df.iloc[:,5:8].values\n",
        "x"
      ],
      "metadata": {
        "colab": {
          "base_uri": "https://localhost:8080/"
        },
        "id": "4Hr7FpXa7XVE",
        "outputId": "b80217b9-633a-4767-ca35-f815131baabf"
      },
      "execution_count": 21,
      "outputs": [
        {
          "output_type": "execute_result",
          "data": {
            "text/plain": [
              "array([[9.0000e+00, 3.0710e+03],\n",
              "       [8.8000e+00, 1.0131e+04],\n",
              "       [8.7000e+00, 2.6150e+03],\n",
              "       ...,\n",
              "       [4.1000e+00, 1.0800e+02],\n",
              "       [3.9000e+00, 1.8300e+02],\n",
              "       [6.0000e-01, 1.6200e+02]])"
            ]
          },
          "metadata": {},
          "execution_count": 21
        }
      ]
    },
    {
      "cell_type": "code",
      "source": [
        "#Now to find out range of number of cluster(k)\n",
        "import numpy as np\n",
        "np.sqrt(2617)\n",
        "#k lies in between 2 and 51"
      ],
      "metadata": {
        "colab": {
          "base_uri": "https://localhost:8080/"
        },
        "id": "t2iqfBIxEJsy",
        "outputId": "3ef9e5a7-44ed-4674-e3c4-8a869e928da7"
      },
      "execution_count": 23,
      "outputs": [
        {
          "output_type": "execute_result",
          "data": {
            "text/plain": [
              "51.15662224971465"
            ]
          },
          "metadata": {},
          "execution_count": 23
        }
      ]
    },
    {
      "cell_type": "code",
      "source": [
        "#5.Train and Test variables\n",
        "#Finding the number of clusters(k)\n",
        "from sklearn.cluster import KMeans\n",
        "k = range(2,5)\n",
        "\n",
        "sse = [] #empty list\n",
        "\n",
        "for i in k:\n",
        "  model_demo = KMeans(n_clusters = i,random_state = 0)\n",
        "  model_demo.fit(x)\n",
        "  sse.append(model_demo.inertia_)\n",
        "plt.scatter(k,sse)\n",
        "plt.plot(k,sse)"
      ],
      "metadata": {
        "colab": {
          "base_uri": "https://localhost:8080/",
          "height": 293
        },
        "id": "AxeXyVAZIf2F",
        "outputId": "b3c88992-b790-4d02-a9c0-80dd1262e59c"
      },
      "execution_count": 31,
      "outputs": [
        {
          "output_type": "execute_result",
          "data": {
            "text/plain": [
              "[<matplotlib.lines.Line2D at 0x7f6cd6d25880>]"
            ]
          },
          "metadata": {},
          "execution_count": 31
        },
        {
          "output_type": "display_data",
          "data": {
            "text/plain": [
              "<Figure size 432x288 with 1 Axes>"
            ],
            "image/png": "[encoded data removed]"
          },
          "metadata": {
            "needs_background": "light"
          }
        }
      ]
    },
    {
      "cell_type": "code",
      "source": [
        "from sklearn.metrics import silhouette_score\n",
        "k=range(2,51)\n",
        "for i in k:\n",
        "  model_demo = KMeans(n_clusters = i,random_state = 0)\n",
        "  model_demo.fit(x)\n",
        "  y_pred = model_demo.predict(x)\n",
        "  print(f'{i} Clusters , Score = {silhouette_score(x,y_pred)}')\n",
        "  plt.bar(i,silhouette_score(x,y_pred))"
      ],
      "metadata": {
        "colab": {
          "base_uri": "https://localhost:8080/",
          "height": 1000
        },
        "id": "_gtCjB1dFIFj",
        "outputId": "bfd1e48c-16f5-4478-9096-44a4f5b1845c"
      },
      "execution_count": 32,
      "outputs": [
        {
          "output_type": "stream",
          "name": "stdout",
          "text": [
            "2 Clusters , Score = 0.918807194919493\n",
            "3 Clusters , Score = 0.8314171553645592\n",
            "4 Clusters , Score = 0.7457739642093048\n",
            "5 Clusters , Score = 0.7365425841574232\n",
            "6 Clusters , Score = 0.6955508140758792\n",
            "7 Clusters , Score = 0.6954019817383416\n",
            "8 Clusters , Score = 0.6884290592458979\n",
            "9 Clusters , Score = 0.6616997568160238\n",
            "10 Clusters , Score = 0.6619943856766348\n",
            "11 Clusters , Score = 0.6275153412467241\n",
            "12 Clusters , Score = 0.6168714981200766\n",
            "13 Clusters , Score = 0.6105621138263164\n",
            "14 Clusters , Score = 0.6101313439612318\n",
            "15 Clusters , Score = 0.6111126888089027\n",
            "16 Clusters , Score = 0.6108250472059312\n",
            "17 Clusters , Score = 0.6109679274689338\n",
            "18 Clusters , Score = 0.5827344939981167\n",
            "19 Clusters , Score = 0.594408763237405\n",
            "20 Clusters , Score = 0.5848844653068372\n",
            "21 Clusters , Score = 0.5835046075079302\n",
            "22 Clusters , Score = 0.5847717740277001\n",
            "23 Clusters , Score = 0.5835914819835725\n",
            "24 Clusters , Score = 0.5824820358788314\n",
            "25 Clusters , Score = 0.5886765295799316\n",
            "26 Clusters , Score = 0.5693072083056611\n",
            "27 Clusters , Score = 0.563706325859502\n",
            "28 Clusters , Score = 0.5692766472026946\n",
            "29 Clusters , Score = 0.566634724169914\n",
            "30 Clusters , Score = 0.5685273294362687\n",
            "31 Clusters , Score = 0.5689000787624988\n",
            "32 Clusters , Score = 0.5680787163223824\n",
            "33 Clusters , Score = 0.5624107717404179\n",
            "34 Clusters , Score = 0.5661670342543721\n",
            "35 Clusters , Score = 0.5596003422105889\n",
            "36 Clusters , Score = 0.5600218331119989\n",
            "37 Clusters , Score = 0.5554308583652672\n",
            "38 Clusters , Score = 0.5555338415196391\n",
            "39 Clusters , Score = 0.5587811928074431\n",
            "40 Clusters , Score = 0.5513276957833916\n",
            "41 Clusters , Score = 0.5605640265784783\n",
            "42 Clusters , Score = 0.5595107426965519\n",
            "43 Clusters , Score = 0.5625350431831799\n",
            "44 Clusters , Score = 0.5639554910756688\n",
            "45 Clusters , Score = 0.5594308102134582\n",
            "46 Clusters , Score = 0.5503414169922057\n",
            "47 Clusters , Score = 0.5451716427176806\n",
            "48 Clusters , Score = 0.556280788064464\n",
            "49 Clusters , Score = 0.5450544182967358\n",
            "50 Clusters , Score = 0.5564727196695536\n"
          ]
        },
        {
          "output_type": "display_data",
          "data": {
            "text/plain": [
              "<Figure size 432x288 with 1 Axes>"
            ],
            "image/png": "[encoded data removed]"
          },
          "metadata": {
            "needs_background": "light"
          }
        }
      ]
    },
    {
      "cell_type": "code",
      "source": [
        "#Confirmation : The number of CLUSTERS to be considered is 2 "
      ],
      "metadata": {
        "id": "GD8mgJ0NJJbp"
      },
      "execution_count": null,
      "outputs": []
    },
    {
      "cell_type": "code",
      "source": [
        "#6.No need for Scaling"
      ],
      "metadata": {
        "id": "5GukbFsuJXCI"
      },
      "execution_count": null,
      "outputs": []
    },
    {
      "cell_type": "code",
      "source": [
        "#7.Applying Clusterer\n",
        "k=2\n",
        "from sklearn.cluster import KMeans\n",
        "model=KMeans(n_clusters=k,random_state=0)"
      ],
      "metadata": {
        "id": "yswEJxBVJXMT"
      },
      "execution_count": 35,
      "outputs": []
    },
    {
      "cell_type": "code",
      "source": [
        "#8.Fit the model\n",
        "model.fit(x)"
      ],
      "metadata": {
        "colab": {
          "base_uri": "https://localhost:8080/"
        },
        "id": "nDufVSucJYIo",
        "outputId": "99edaa67-ec19-4c78-e80e-6c7a3fb62b26"
      },
      "execution_count": 36,
      "outputs": [
        {
          "output_type": "execute_result",
          "data": {
            "text/plain": [
              "KMeans(n_clusters=2, random_state=0)"
            ]
          },
          "metadata": {},
          "execution_count": 36
        }
      ]
    },
    {
      "cell_type": "code",
      "source": [
        "#9.Predict the output\n",
        "y = model.predict(x)\n",
        "y"
      ],
      "metadata": {
        "colab": {
          "base_uri": "https://localhost:8080/"
        },
        "id": "2rJeaD7yJYV4",
        "outputId": "86afdeff-9169-4938-c490-fb7db5c461bd"
      },
      "execution_count": 37,
      "outputs": [
        {
          "output_type": "execute_result",
          "data": {
            "text/plain": [
              "array([0, 1, 0, ..., 0, 0, 0], dtype=int32)"
            ]
          },
          "metadata": {},
          "execution_count": 37
        }
      ]
    },
    {
      "cell_type": "code",
      "source": [
        "y.size"
      ],
      "metadata": {
        "colab": {
          "base_uri": "https://localhost:8080/"
        },
        "id": "VBtX655ZLWD5",
        "outputId": "ebb7ff12-6b3f-492a-f28b-1ce68f229394"
      },
      "execution_count": 38,
      "outputs": [
        {
          "output_type": "execute_result",
          "data": {
            "text/plain": [
              "2617"
            ]
          },
          "metadata": {},
          "execution_count": 38
        }
      ]
    },
    {
      "cell_type": "code",
      "source": [
        "x[y==1,1]"
      ],
      "metadata": {
        "colab": {
          "base_uri": "https://localhost:8080/"
        },
        "id": "RA1A55yDLcwE",
        "outputId": "d2780ef6-5164-483d-9ce4-3660e2fe5692"
      },
      "execution_count": 39,
      "outputs": [
        {
          "output_type": "execute_result",
          "data": {
            "text/plain": [
              "array([10131.,  7220.,  4422.,  8355.,  4568., 14027.,  5018.,  4415.,\n",
              "        7138.,  7575., 10868., 12828., 12599.,  4475.,  7996.,  7563.,\n",
              "        6187.,  4848., 19459.,  5297.,  8208.,  4781.,  6029.,  7612.,\n",
              "       10538.,  6216., 16896.,  8512.,  5205.,  4245.,  9319.,  4745.,\n",
              "        8371., 13802.,  4458.,  5743.,  8295.,  7216.,  9170., 11690.,\n",
              "        9993.,  7451.,  4273.,  4778.,  5200.])"
            ]
          },
          "metadata": {},
          "execution_count": 39
        }
      ]
    },
    {
      "cell_type": "code",
      "source": [
        "#Accurracy Score\n",
        "np.unique(y,return_counts=True)"
      ],
      "metadata": {
        "colab": {
          "base_uri": "https://localhost:8080/"
        },
        "id": "CQiikJ_2LqQ9",
        "outputId": "a290c890-b0a6-41f3-9b09-b05d7a464bef"
      },
      "execution_count": 40,
      "outputs": [
        {
          "output_type": "execute_result",
          "data": {
            "text/plain": [
              "(array([0, 1], dtype=int32), array([2572,   45]))"
            ]
          },
          "metadata": {},
          "execution_count": 40
        }
      ]
    },
    {
      "cell_type": "code",
      "source": [
        "2572+45"
      ],
      "metadata": {
        "colab": {
          "base_uri": "https://localhost:8080/"
        },
        "id": "aw7S12CSMWd4",
        "outputId": "c7617171-15e3-4615-ae08-4e5748e3c782"
      },
      "execution_count": 41,
      "outputs": [
        {
          "output_type": "execute_result",
          "data": {
            "text/plain": [
              "2617"
            ]
          },
          "metadata": {},
          "execution_count": 41
        }
      ]
    },
    {
      "cell_type": "code",
      "source": [
        "#FINAL VISUALISATION\n",
        "plt.figure(figsize = (10,5))\n",
        "for i in range(k):\n",
        "  plt.scatter(x[y == i,0],x[y == i,1],label = f'Cluster {i}')\n",
        "plt.scatter(model.cluster_centers_[:,0],model.cluster_centers_[:,1],s = 100,c = 'yellow',label = 'Centroids')\n",
        "plt.legend()"
      ],
      "metadata": {
        "colab": {
          "base_uri": "https://localhost:8080/",
          "height": 337
        },
        "id": "iSzJ9YpxMZvu",
        "outputId": "d66b05cf-d66a-453f-8a6d-2860afcee282"
      },
      "execution_count": 42,
      "outputs": [
        {
          "output_type": "execute_result",
          "data": {
            "text/plain": [
              "<matplotlib.legend.Legend at 0x7f6cd036af10>"
            ]
          },
          "metadata": {},
          "execution_count": 42
        },
        {
          "output_type": "display_data",
          "data": {
            "text/plain": [
              "<Figure size 720x360 with 1 Axes>"
            ],
            "image/png": "[encoded data removed]"
          },
          "metadata": {
            "needs_background": "light"
          }
        }
      ]
    }
  ]
}