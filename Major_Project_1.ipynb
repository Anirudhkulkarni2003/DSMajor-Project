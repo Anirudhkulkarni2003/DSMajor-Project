{
  "nbformat": 4,
  "nbformat_minor": 0,
  "metadata": {
    "colab": {
      "provenance": []
    },
    "kernelspec": {
      "name": "python3",
      "display_name": "Python 3"
    },
    "language_info": {
      "name": "python"
    }
  },
  "cells": [
    {
      "cell_type": "code",
      "execution_count": 104,
      "metadata": {
        "id": "R6grsJiJXWOR"
      },
      "outputs": [],
      "source": [
        "#Major-Project 1 :-\n",
        "#ML Model for Indian GDP\n",
        "#Dataset :- https://www.kaggle.com/datasets/dheerajmukati/india-gdp-19602022"
      ]
    },
    {
      "cell_type": "code",
      "source": [
        "#1.Taking dataset and creating a Dataframe\n",
        "import pandas as pd\n",
        "df=pd.read_csv('/content/India_GDP_Data.csv')\n",
        "df"
      ],
      "metadata": {
        "colab": {
          "base_uri": "https://localhost:8080/",
          "height": 424
        },
        "id": "fwdSbRV-YTxl",
        "outputId": "3a028d67-0566-4150-c6f1-3361d186bd85"
      },
      "execution_count": 134,
      "outputs": [
        {
          "output_type": "execute_result",
          "data": {
            "text/plain": [
              "    Year  GDP_In_Billion_USD  Per_Capita_in_USD  Percentage_Growth \n",
              "0   2021             3173.40               2277                8.95\n",
              "1   2020             2667.69               1933               -6.60\n",
              "2   2019             2831.55               2072                3.74\n",
              "3   2018             2702.93               1998                6.45\n",
              "4   2017             2651.47               1981                6.80\n",
              "..   ...                 ...                ...                 ...\n",
              "56  1965               59.55                119               -2.64\n",
              "57  1964               56.48                116                7.45\n",
              "58  1963               48.42                101                5.99\n",
              "59  1962               42.16                 90                2.93\n",
              "60  1961               39.23                 85                3.72\n",
              "\n",
              "[61 rows x 4 columns]"
            ],
            "text/html": [
              "\n",
              "  <div id=\"df-c89468fe-21b2-49ba-a89c-ca4bd15d9233\">\n",
              "    <div class=\"colab-df-container\">\n",
              "      <div>\n",
              "<style scoped>\n",
              "    .dataframe tbody tr th:only-of-type {\n",
              "        vertical-align: middle;\n",
              "    }\n",
              "\n",
              "    .dataframe tbody tr th {\n",
              "        vertical-align: top;\n",
              "    }\n",
              "\n",
              "    .dataframe thead th {\n",
              "        text-align: right;\n",
              "    }\n",
              "</style>\n",
              "<table border=\"1\" class=\"dataframe\">\n",
              "  <thead>\n",
              "    <tr style=\"text-align: right;\">\n",
              "      <th></th>\n",
              "      <th>Year</th>\n",
              "      <th>GDP_In_Billion_USD</th>\n",
              "      <th>Per_Capita_in_USD</th>\n",
              "      <th>Percentage_Growth</th>\n",
              "    </tr>\n",
              "  </thead>\n",
              "  <tbody>\n",
              "    <tr>\n",
              "      <th>0</th>\n",
              "      <td>2021</td>\n",
              "      <td>3173.40</td>\n",
              "      <td>2277</td>\n",
              "      <td>8.95</td>\n",
              "    </tr>\n",
              "    <tr>\n",
              "      <th>1</th>\n",
              "      <td>2020</td>\n",
              "      <td>2667.69</td>\n",
              "      <td>1933</td>\n",
              "      <td>-6.60</td>\n",
              "    </tr>\n",
              "    <tr>\n",
              "      <th>2</th>\n",
              "      <td>2019</td>\n",
              "      <td>2831.55</td>\n",
              "      <td>2072</td>\n",
              "      <td>3.74</td>\n",
              "    </tr>\n",
              "    <tr>\n",
              "      <th>3</th>\n",
              "      <td>2018</td>\n",
              "      <td>2702.93</td>\n",
              "      <td>1998</td>\n",
              "      <td>6.45</td>\n",
              "    </tr>\n",
              "    <tr>\n",
              "      <th>4</th>\n",
              "      <td>2017</td>\n",
              "      <td>2651.47</td>\n",
              "      <td>1981</td>\n",
              "      <td>6.80</td>\n",
              "    </tr>\n",
              "    <tr>\n",
              "      <th>...</th>\n",
              "      <td>...</td>\n",
              "      <td>...</td>\n",
              "      <td>...</td>\n",
              "      <td>...</td>\n",
              "    </tr>\n",
              "    <tr>\n",
              "      <th>56</th>\n",
              "      <td>1965</td>\n",
              "      <td>59.55</td>\n",
              "      <td>119</td>\n",
              "      <td>-2.64</td>\n",
              "    </tr>\n",
              "    <tr>\n",
              "      <th>57</th>\n",
              "      <td>1964</td>\n",
              "      <td>56.48</td>\n",
              "      <td>116</td>\n",
              "      <td>7.45</td>\n",
              "    </tr>\n",
              "    <tr>\n",
              "      <th>58</th>\n",
              "      <td>1963</td>\n",
              "      <td>48.42</td>\n",
              "      <td>101</td>\n",
              "      <td>5.99</td>\n",
              "    </tr>\n",
              "    <tr>\n",
              "      <th>59</th>\n",
              "      <td>1962</td>\n",
              "      <td>42.16</td>\n",
              "      <td>90</td>\n",
              "      <td>2.93</td>\n",
              "    </tr>\n",
              "    <tr>\n",
              "      <th>60</th>\n",
              "      <td>1961</td>\n",
              "      <td>39.23</td>\n",
              "      <td>85</td>\n",
              "      <td>3.72</td>\n",
              "    </tr>\n",
              "  </tbody>\n",
              "</table>\n",
              "<p>61 rows × 4 columns</p>\n",
              "</div>\n",
              "      <button class=\"colab-df-convert\" onclick=\"convertToInteractive('df-c89468fe-21b2-49ba-a89c-ca4bd15d9233')\"\n",
              "              title=\"Convert this dataframe to an interactive table.\"\n",
              "              style=\"display:none;\">\n",
              "        \n",
              "  <svg xmlns=\"http://www.w3.org/2000/svg\" height=\"24px\"viewBox=\"0 0 24 24\"\n",
              "       width=\"24px\">\n",
              "    <path d=\"M0 0h24v24H0V0z\" fill=\"none\"/>\n",
              "    <path d=\"M18.56 5.44l.94 2.06.94-2.06 2.06-.94-2.06-.94-.94-2.06-.94 2.06-2.06.94zm-11 1L8.5 8.5l.94-2.06 2.06-.94-2.06-.94L8.5 2.5l-.94 2.06-2.06.94zm10 10l.94 2.06.94-2.06 2.06-.94-2.06-.94-.94-2.06-.94 2.06-2.06.94z\"/><path d=\"M17.41 7.96l-1.37-1.37c-.4-.4-.92-.59-1.43-.59-.52 0-1.04.2-1.43.59L10.3 9.45l-7.72 7.72c-.78.78-.78 2.05 0 2.83L4 21.41c.39.39.9.59 1.41.59.51 0 1.02-.2 1.41-.59l7.78-7.78 2.81-2.81c.8-.78.8-2.07 0-2.86zM5.41 20L4 18.59l7.72-7.72 1.47 1.35L5.41 20z\"/>\n",
              "  </svg>\n",
              "      </button>\n",
              "      \n",
              "  <style>\n",
              "    .colab-df-container {\n",
              "      display:flex;\n",
              "      flex-wrap:wrap;\n",
              "      gap: 12px;\n",
              "    }\n",
              "\n",
              "    .colab-df-convert {\n",
              "      background-color: #E8F0FE;\n",
              "      border: none;\n",
              "      border-radius: 50%;\n",
              "      cursor: pointer;\n",
              "      display: none;\n",
              "      fill: #1967D2;\n",
              "      height: 32px;\n",
              "      padding: 0 0 0 0;\n",
              "      width: 32px;\n",
              "    }\n",
              "\n",
              "    .colab-df-convert:hover {\n",
              "      background-color: #E2EBFA;\n",
              "      box-shadow: 0px 1px 2px rgba(60, 64, 67, 0.3), 0px 1px 3px 1px rgba(60, 64, 67, 0.15);\n",
              "      fill: #174EA6;\n",
              "    }\n",
              "\n",
              "    [theme=dark] .colab-df-convert {\n",
              "      background-color: #3B4455;\n",
              "      fill: #D2E3FC;\n",
              "    }\n",
              "\n",
              "    [theme=dark] .colab-df-convert:hover {\n",
              "      background-color: #434B5C;\n",
              "      box-shadow: 0px 1px 3px 1px rgba(0, 0, 0, 0.15);\n",
              "      filter: drop-shadow(0px 1px 2px rgba(0, 0, 0, 0.3));\n",
              "      fill: #FFFFFF;\n",
              "    }\n",
              "  </style>\n",
              "\n",
              "      <script>\n",
              "        const buttonEl =\n",
              "          document.querySelector('#df-c89468fe-21b2-49ba-a89c-ca4bd15d9233 button.colab-df-convert');\n",
              "        buttonEl.style.display =\n",
              "          google.colab.kernel.accessAllowed ? 'block' : 'none';\n",
              "\n",
              "        async function convertToInteractive(key) {\n",
              "          const element = document.querySelector('#df-c89468fe-21b2-49ba-a89c-ca4bd15d9233');\n",
              "          const dataTable =\n",
              "            await google.colab.kernel.invokeFunction('convertToInteractive',\n",
              "                                                     [key], {});\n",
              "          if (!dataTable) return;\n",
              "\n",
              "          const docLinkHtml = 'Like what you see? Visit the ' +\n",
              "            '<a target=\"_blank\" href=https://colab.research.google.com/notebooks/data_table.ipynb>data table notebook</a>'\n",
              "            + ' to learn more about interactive tables.';\n",
              "          element.innerHTML = '';\n",
              "          dataTable['output_type'] = 'display_data';\n",
              "          await google.colab.output.renderOutput(dataTable, element);\n",
              "          const docLink = document.createElement('div');\n",
              "          docLink.innerHTML = docLinkHtml;\n",
              "          element.appendChild(docLink);\n",
              "        }\n",
              "      </script>\n",
              "    </div>\n",
              "  </div>\n",
              "  "
            ]
          },
          "metadata": {},
          "execution_count": 134
        }
      ]
    },
    {
      "cell_type": "code",
      "source": [
        "#2.EDA\n",
        "print(df.info())"
      ],
      "metadata": {
        "colab": {
          "base_uri": "https://localhost:8080/"
        },
        "id": "QMGLEMXfZoPw",
        "outputId": "0af0663b-f8dc-4ad5-b4a2-a21976422c3e"
      },
      "execution_count": 135,
      "outputs": [
        {
          "output_type": "stream",
          "name": "stdout",
          "text": [
            "<class 'pandas.core.frame.DataFrame'>\n",
            "RangeIndex: 61 entries, 0 to 60\n",
            "Data columns (total 4 columns):\n",
            " #   Column              Non-Null Count  Dtype  \n",
            "---  ------              --------------  -----  \n",
            " 0   Year                61 non-null     int64  \n",
            " 1   GDP_In_Billion_USD  61 non-null     float64\n",
            " 2   Per_Capita_in_USD   61 non-null     int64  \n",
            " 3   Percentage_Growth   61 non-null     float64\n",
            "dtypes: float64(2), int64(2)\n",
            "memory usage: 2.0 KB\n",
            "None\n"
          ]
        }
      ]
    },
    {
      "cell_type": "code",
      "source": [
        "print(df.shape)\n",
        "#dataframe has 61 rows and 4 columns"
      ],
      "metadata": {
        "colab": {
          "base_uri": "https://localhost:8080/"
        },
        "id": "24Vz1DyqZ20G",
        "outputId": "8bed4dd0-b9af-4c3c-ef32-8c581b2a736c"
      },
      "execution_count": 136,
      "outputs": [
        {
          "output_type": "stream",
          "name": "stdout",
          "text": [
            "(61, 4)\n"
          ]
        }
      ]
    },
    {
      "cell_type": "code",
      "source": [
        "print(df.size)\n",
        "#dataframe has 244 elements in total"
      ],
      "metadata": {
        "colab": {
          "base_uri": "https://localhost:8080/"
        },
        "id": "E8mU9VCcZ8rF",
        "outputId": "8626e317-b561-477c-c259-bfa929c92434"
      },
      "execution_count": 137,
      "outputs": [
        {
          "output_type": "stream",
          "name": "stdout",
          "text": [
            "244\n"
          ]
        }
      ]
    },
    {
      "cell_type": "code",
      "source": [
        "df.isnull().sum()"
      ],
      "metadata": {
        "colab": {
          "base_uri": "https://localhost:8080/"
        },
        "id": "ngKzo8K-aAc0",
        "outputId": "bdca9fbf-573f-46da-9a20-55270f2535f9"
      },
      "execution_count": 116,
      "outputs": [
        {
          "output_type": "execute_result",
          "data": {
            "text/plain": [
              "Unnamed: 0                       1\n",
              "India GDP - Historical Data      0\n",
              "India GDP - Historical Data.1    0\n",
              "India GDP - Historical Data.2    0\n",
              "India GDP - Historical Data.3    0\n",
              "dtype: int64"
            ]
          },
          "metadata": {},
          "execution_count": 116
        }
      ]
    },
    {
      "cell_type": "code",
      "source": [
        "#We will be dropping GDP per capita and Growth rate as they will be of no use to us.\n",
        "df = df.drop(df.iloc[:,2:], axis=1)\n",
        "df"
      ],
      "metadata": {
        "colab": {
          "base_uri": "https://localhost:8080/",
          "height": 424
        },
        "id": "t6ekyBDEwpbA",
        "outputId": "aca56991-71b1-4a64-95a1-e3dda5487376"
      },
      "execution_count": 138,
      "outputs": [
        {
          "output_type": "execute_result",
          "data": {
            "text/plain": [
              "    Year  GDP_In_Billion_USD\n",
              "0   2021             3173.40\n",
              "1   2020             2667.69\n",
              "2   2019             2831.55\n",
              "3   2018             2702.93\n",
              "4   2017             2651.47\n",
              "..   ...                 ...\n",
              "56  1965               59.55\n",
              "57  1964               56.48\n",
              "58  1963               48.42\n",
              "59  1962               42.16\n",
              "60  1961               39.23\n",
              "\n",
              "[61 rows x 2 columns]"
            ],
            "text/html": [
              "\n",
              "  <div id=\"df-c371a219-4bd7-4db9-8bd5-2843e11e569e\">\n",
              "    <div class=\"colab-df-container\">\n",
              "      <div>\n",
              "<style scoped>\n",
              "    .dataframe tbody tr th:only-of-type {\n",
              "        vertical-align: middle;\n",
              "    }\n",
              "\n",
              "    .dataframe tbody tr th {\n",
              "        vertical-align: top;\n",
              "    }\n",
              "\n",
              "    .dataframe thead th {\n",
              "        text-align: right;\n",
              "    }\n",
              "</style>\n",
              "<table border=\"1\" class=\"dataframe\">\n",
              "  <thead>\n",
              "    <tr style=\"text-align: right;\">\n",
              "      <th></th>\n",
              "      <th>Year</th>\n",
              "      <th>GDP_In_Billion_USD</th>\n",
              "    </tr>\n",
              "  </thead>\n",
              "  <tbody>\n",
              "    <tr>\n",
              "      <th>0</th>\n",
              "      <td>2021</td>\n",
              "      <td>3173.40</td>\n",
              "    </tr>\n",
              "    <tr>\n",
              "      <th>1</th>\n",
              "      <td>2020</td>\n",
              "      <td>2667.69</td>\n",
              "    </tr>\n",
              "    <tr>\n",
              "      <th>2</th>\n",
              "      <td>2019</td>\n",
              "      <td>2831.55</td>\n",
              "    </tr>\n",
              "    <tr>\n",
              "      <th>3</th>\n",
              "      <td>2018</td>\n",
              "      <td>2702.93</td>\n",
              "    </tr>\n",
              "    <tr>\n",
              "      <th>4</th>\n",
              "      <td>2017</td>\n",
              "      <td>2651.47</td>\n",
              "    </tr>\n",
              "    <tr>\n",
              "      <th>...</th>\n",
              "      <td>...</td>\n",
              "      <td>...</td>\n",
              "    </tr>\n",
              "    <tr>\n",
              "      <th>56</th>\n",
              "      <td>1965</td>\n",
              "      <td>59.55</td>\n",
              "    </tr>\n",
              "    <tr>\n",
              "      <th>57</th>\n",
              "      <td>1964</td>\n",
              "      <td>56.48</td>\n",
              "    </tr>\n",
              "    <tr>\n",
              "      <th>58</th>\n",
              "      <td>1963</td>\n",
              "      <td>48.42</td>\n",
              "    </tr>\n",
              "    <tr>\n",
              "      <th>59</th>\n",
              "      <td>1962</td>\n",
              "      <td>42.16</td>\n",
              "    </tr>\n",
              "    <tr>\n",
              "      <th>60</th>\n",
              "      <td>1961</td>\n",
              "      <td>39.23</td>\n",
              "    </tr>\n",
              "  </tbody>\n",
              "</table>\n",
              "<p>61 rows × 2 columns</p>\n",
              "</div>\n",
              "      <button class=\"colab-df-convert\" onclick=\"convertToInteractive('df-c371a219-4bd7-4db9-8bd5-2843e11e569e')\"\n",
              "              title=\"Convert this dataframe to an interactive table.\"\n",
              "              style=\"display:none;\">\n",
              "        \n",
              "  <svg xmlns=\"http://www.w3.org/2000/svg\" height=\"24px\"viewBox=\"0 0 24 24\"\n",
              "       width=\"24px\">\n",
              "    <path d=\"M0 0h24v24H0V0z\" fill=\"none\"/>\n",
              "    <path d=\"M18.56 5.44l.94 2.06.94-2.06 2.06-.94-2.06-.94-.94-2.06-.94 2.06-2.06.94zm-11 1L8.5 8.5l.94-2.06 2.06-.94-2.06-.94L8.5 2.5l-.94 2.06-2.06.94zm10 10l.94 2.06.94-2.06 2.06-.94-2.06-.94-.94-2.06-.94 2.06-2.06.94z\"/><path d=\"M17.41 7.96l-1.37-1.37c-.4-.4-.92-.59-1.43-.59-.52 0-1.04.2-1.43.59L10.3 9.45l-7.72 7.72c-.78.78-.78 2.05 0 2.83L4 21.41c.39.39.9.59 1.41.59.51 0 1.02-.2 1.41-.59l7.78-7.78 2.81-2.81c.8-.78.8-2.07 0-2.86zM5.41 20L4 18.59l7.72-7.72 1.47 1.35L5.41 20z\"/>\n",
              "  </svg>\n",
              "      </button>\n",
              "      \n",
              "  <style>\n",
              "    .colab-df-container {\n",
              "      display:flex;\n",
              "      flex-wrap:wrap;\n",
              "      gap: 12px;\n",
              "    }\n",
              "\n",
              "    .colab-df-convert {\n",
              "      background-color: #E8F0FE;\n",
              "      border: none;\n",
              "      border-radius: 50%;\n",
              "      cursor: pointer;\n",
              "      display: none;\n",
              "      fill: #1967D2;\n",
              "      height: 32px;\n",
              "      padding: 0 0 0 0;\n",
              "      width: 32px;\n",
              "    }\n",
              "\n",
              "    .colab-df-convert:hover {\n",
              "      background-color: #E2EBFA;\n",
              "      box-shadow: 0px 1px 2px rgba(60, 64, 67, 0.3), 0px 1px 3px 1px rgba(60, 64, 67, 0.15);\n",
              "      fill: #174EA6;\n",
              "    }\n",
              "\n",
              "    [theme=dark] .colab-df-convert {\n",
              "      background-color: #3B4455;\n",
              "      fill: #D2E3FC;\n",
              "    }\n",
              "\n",
              "    [theme=dark] .colab-df-convert:hover {\n",
              "      background-color: #434B5C;\n",
              "      box-shadow: 0px 1px 3px 1px rgba(0, 0, 0, 0.15);\n",
              "      filter: drop-shadow(0px 1px 2px rgba(0, 0, 0, 0.3));\n",
              "      fill: #FFFFFF;\n",
              "    }\n",
              "  </style>\n",
              "\n",
              "      <script>\n",
              "        const buttonEl =\n",
              "          document.querySelector('#df-c371a219-4bd7-4db9-8bd5-2843e11e569e button.colab-df-convert');\n",
              "        buttonEl.style.display =\n",
              "          google.colab.kernel.accessAllowed ? 'block' : 'none';\n",
              "\n",
              "        async function convertToInteractive(key) {\n",
              "          const element = document.querySelector('#df-c371a219-4bd7-4db9-8bd5-2843e11e569e');\n",
              "          const dataTable =\n",
              "            await google.colab.kernel.invokeFunction('convertToInteractive',\n",
              "                                                     [key], {});\n",
              "          if (!dataTable) return;\n",
              "\n",
              "          const docLinkHtml = 'Like what you see? Visit the ' +\n",
              "            '<a target=\"_blank\" href=https://colab.research.google.com/notebooks/data_table.ipynb>data table notebook</a>'\n",
              "            + ' to learn more about interactive tables.';\n",
              "          element.innerHTML = '';\n",
              "          dataTable['output_type'] = 'display_data';\n",
              "          await google.colab.output.renderOutput(dataTable, element);\n",
              "          const docLink = document.createElement('div');\n",
              "          docLink.innerHTML = docLinkHtml;\n",
              "          element.appendChild(docLink);\n",
              "        }\n",
              "      </script>\n",
              "    </div>\n",
              "  </div>\n",
              "  "
            ]
          },
          "metadata": {},
          "execution_count": 138
        }
      ]
    },
    {
      "cell_type": "code",
      "source": [
        "#3.Visualisation-We will not perform this because of limited data"
      ],
      "metadata": {
        "id": "mvCRWVfMeV2R"
      },
      "execution_count": 173,
      "outputs": []
    },
    {
      "cell_type": "code",
      "source": [
        "#4.Dividing the data into input(x) and output(y)\n",
        "#Input - Year and Output - GDP in Billions\n",
        "x=df.iloc[:,0:1].values\n",
        "x"
      ],
      "metadata": {
        "colab": {
          "base_uri": "https://localhost:8080/"
        },
        "id": "L4Xxg-3SgdsZ",
        "outputId": "4a186eba-a182-4f3c-fd34-78a9c8c6b4bc"
      },
      "execution_count": 140,
      "outputs": [
        {
          "output_type": "execute_result",
          "data": {
            "text/plain": [
              "array([[2021],\n",
              "       [2020],\n",
              "       [2019],\n",
              "       [2018],\n",
              "       [2017],\n",
              "       [2016],\n",
              "       [2015],\n",
              "       [2014],\n",
              "       [2013],\n",
              "       [2012],\n",
              "       [2011],\n",
              "       [2010],\n",
              "       [2009],\n",
              "       [2008],\n",
              "       [2007],\n",
              "       [2006],\n",
              "       [2005],\n",
              "       [2004],\n",
              "       [2003],\n",
              "       [2002],\n",
              "       [2001],\n",
              "       [2000],\n",
              "       [1999],\n",
              "       [1998],\n",
              "       [1997],\n",
              "       [1996],\n",
              "       [1995],\n",
              "       [1994],\n",
              "       [1993],\n",
              "       [1992],\n",
              "       [1991],\n",
              "       [1990],\n",
              "       [1989],\n",
              "       [1988],\n",
              "       [1987],\n",
              "       [1986],\n",
              "       [1985],\n",
              "       [1984],\n",
              "       [1983],\n",
              "       [1982],\n",
              "       [1981],\n",
              "       [1980],\n",
              "       [1979],\n",
              "       [1978],\n",
              "       [1977],\n",
              "       [1976],\n",
              "       [1975],\n",
              "       [1974],\n",
              "       [1973],\n",
              "       [1972],\n",
              "       [1971],\n",
              "       [1970],\n",
              "       [1969],\n",
              "       [1968],\n",
              "       [1967],\n",
              "       [1966],\n",
              "       [1965],\n",
              "       [1964],\n",
              "       [1963],\n",
              "       [1962],\n",
              "       [1961]])"
            ]
          },
          "metadata": {},
          "execution_count": 140
        }
      ]
    },
    {
      "cell_type": "code",
      "source": [
        "y = df.iloc[:,1:].values\n",
        "y"
      ],
      "metadata": {
        "colab": {
          "base_uri": "https://localhost:8080/"
        },
        "id": "8-fCB5-DhMV-",
        "outputId": "55231043-3753-4ab5-9c35-73a5d890c45e"
      },
      "execution_count": 141,
      "outputs": [
        {
          "output_type": "execute_result",
          "data": {
            "text/plain": [
              "array([[3173.4 ],\n",
              "       [2667.69],\n",
              "       [2831.55],\n",
              "       [2702.93],\n",
              "       [2651.47],\n",
              "       [2294.8 ],\n",
              "       [2103.59],\n",
              "       [2039.13],\n",
              "       [1856.72],\n",
              "       [1827.64],\n",
              "       [1823.05],\n",
              "       [1675.62],\n",
              "       [1341.89],\n",
              "       [1198.9 ],\n",
              "       [1216.74],\n",
              "       [ 940.26],\n",
              "       [ 820.38],\n",
              "       [ 709.15],\n",
              "       [ 607.7 ],\n",
              "       [ 514.94],\n",
              "       [ 485.44],\n",
              "       [ 468.39],\n",
              "       [ 458.82],\n",
              "       [ 421.35],\n",
              "       [ 415.87],\n",
              "       [ 392.9 ],\n",
              "       [ 360.28],\n",
              "       [ 327.28],\n",
              "       [ 279.3 ],\n",
              "       [ 288.21],\n",
              "       [ 270.11],\n",
              "       [ 320.98],\n",
              "       [ 296.04],\n",
              "       [ 296.59],\n",
              "       [ 279.03],\n",
              "       [ 248.99],\n",
              "       [ 232.51],\n",
              "       [ 212.16],\n",
              "       [ 218.26],\n",
              "       [ 200.72],\n",
              "       [ 193.49],\n",
              "       [ 186.33],\n",
              "       [ 152.99],\n",
              "       [ 137.3 ],\n",
              "       [ 121.49],\n",
              "       [ 102.72],\n",
              "       [  98.47],\n",
              "       [  99.53],\n",
              "       [  85.52],\n",
              "       [  71.46],\n",
              "       [  67.35],\n",
              "       [  62.42],\n",
              "       [  58.45],\n",
              "       [  53.09],\n",
              "       [  50.13],\n",
              "       [  45.87],\n",
              "       [  59.55],\n",
              "       [  56.48],\n",
              "       [  48.42],\n",
              "       [  42.16],\n",
              "       [  39.23]])"
            ]
          },
          "metadata": {},
          "execution_count": 141
        }
      ]
    },
    {
      "cell_type": "code",
      "source": [
        "#5.Training and Testing variables\n",
        "from sklearn.model_selection import train_test_split\n",
        "x_train,x_test,y_train,y_test=train_test_split(x,y,random_state=0)"
      ],
      "metadata": {
        "id": "M-cPErVWhl-n"
      },
      "execution_count": 142,
      "outputs": []
    },
    {
      "cell_type": "code",
      "source": [
        "#To verify\n",
        "x.shape"
      ],
      "metadata": {
        "colab": {
          "base_uri": "https://localhost:8080/"
        },
        "id": "4P7bXE2NmerK",
        "outputId": "2522b83d-0aa5-47f8-c2a0-ee8a66452c3a"
      },
      "execution_count": 143,
      "outputs": [
        {
          "output_type": "execute_result",
          "data": {
            "text/plain": [
              "(61, 1)"
            ]
          },
          "metadata": {},
          "execution_count": 143
        }
      ]
    },
    {
      "cell_type": "code",
      "source": [
        "x_train.shape\n",
        "#x_train has 45 of 61 rows which is around 74%"
      ],
      "metadata": {
        "colab": {
          "base_uri": "https://localhost:8080/"
        },
        "id": "idyIr93pm5q8",
        "outputId": "9a9eaf1f-057c-419c-b08e-1c158ccf91ac"
      },
      "execution_count": 144,
      "outputs": [
        {
          "output_type": "execute_result",
          "data": {
            "text/plain": [
              "(45, 1)"
            ]
          },
          "metadata": {},
          "execution_count": 144
        }
      ]
    },
    {
      "cell_type": "code",
      "source": [
        "x_test.shape\n",
        "#x_train has 16 of 61 rows which is around 26%"
      ],
      "metadata": {
        "colab": {
          "base_uri": "https://localhost:8080/"
        },
        "id": "r55xkrKnm6Mm",
        "outputId": "8092d3ba-e158-4d4c-fe73-a2553f405f49"
      },
      "execution_count": 145,
      "outputs": [
        {
          "output_type": "execute_result",
          "data": {
            "text/plain": [
              "(16, 1)"
            ]
          },
          "metadata": {},
          "execution_count": 145
        }
      ]
    },
    {
      "cell_type": "code",
      "source": [
        "y_train.shape\n",
        "#y_train has 45 of 61 rows which is around 74%"
      ],
      "metadata": {
        "colab": {
          "base_uri": "https://localhost:8080/"
        },
        "id": "XzUaamEQm7zk",
        "outputId": "1030f486-d3dc-472d-d223-5bf21da91194"
      },
      "execution_count": 146,
      "outputs": [
        {
          "output_type": "execute_result",
          "data": {
            "text/plain": [
              "(45, 1)"
            ]
          },
          "metadata": {},
          "execution_count": 146
        }
      ]
    },
    {
      "cell_type": "code",
      "source": [
        "y_test.shape\n",
        "#y_train has 16 of 61 rows which is around 26%\n",
        "#By this we can conclude that step 5 is sucessful"
      ],
      "metadata": {
        "colab": {
          "base_uri": "https://localhost:8080/"
        },
        "id": "ETm06yGpm8IQ",
        "outputId": "18da0a56-0745-4230-d997-46ee72b102b3"
      },
      "execution_count": 147,
      "outputs": [
        {
          "output_type": "execute_result",
          "data": {
            "text/plain": [
              "(16, 1)"
            ]
          },
          "metadata": {},
          "execution_count": 147
        }
      ]
    },
    {
      "cell_type": "code",
      "source": [
        "#6.Scaling - We will not performe this as it is not needed"
      ],
      "metadata": {
        "id": "noSI9RalpdvZ"
      },
      "execution_count": 148,
      "outputs": []
    },
    {
      "cell_type": "code",
      "source": [
        "#7.Running linear regresser\n",
        "from sklearn.linear_model import LinearRegression\n",
        "model = LinearRegression()"
      ],
      "metadata": {
        "id": "HcFDugZBpt67"
      },
      "execution_count": 149,
      "outputs": []
    },
    {
      "cell_type": "code",
      "source": [
        "#8.Training the model\n",
        "model.fit(x_train,y_train)"
      ],
      "metadata": {
        "colab": {
          "base_uri": "https://localhost:8080/"
        },
        "id": "G1TjkSfzqL4K",
        "outputId": "cdbf73b3-1cc3-45ef-a73a-82f7e4f23342"
      },
      "execution_count": 150,
      "outputs": [
        {
          "output_type": "execute_result",
          "data": {
            "text/plain": [
              "LinearRegression()"
            ]
          },
          "metadata": {},
          "execution_count": 150
        }
      ]
    },
    {
      "cell_type": "code",
      "source": [
        "#9.Predict the Output\n",
        "y_pred=model.predict(x_test)\n",
        "y_pred"
      ],
      "metadata": {
        "colab": {
          "base_uri": "https://localhost:8080/"
        },
        "id": "akdyR9h05CaR",
        "outputId": "7a2c0105-8bae-4e11-90c9-53237a53218f"
      },
      "execution_count": 167,
      "outputs": [
        {
          "output_type": "execute_result",
          "data": {
            "text/plain": [
              "array([[ 863.27213966],\n",
              "       [ 501.42583987],\n",
              "       [-503.70277065],\n",
              "       [ 782.86185082],\n",
              "       [1466.34930597],\n",
              "       [1828.19560575],\n",
              "       [ 541.63098429],\n",
              "       [-463.49762623],\n",
              "       [ 300.40011777],\n",
              "       [1024.09271734],\n",
              "       [1747.78531691],\n",
              "       [1506.55445039],\n",
              "       [ 702.45156197],\n",
              "       [ 260.19497335],\n",
              "       [ 581.83612871],\n",
              "       [ 179.78468451]])"
            ]
          },
          "metadata": {},
          "execution_count": 167
        }
      ]
    },
    {
      "cell_type": "code",
      "source": [
        "y"
      ],
      "metadata": {
        "colab": {
          "base_uri": "https://localhost:8080/"
        },
        "id": "uwYuGmTV6VZo",
        "outputId": "5ba67055-37a9-4177-e7cf-437c90d8fe4c"
      },
      "execution_count": 168,
      "outputs": [
        {
          "output_type": "execute_result",
          "data": {
            "text/plain": [
              "array([[3173.4 ],\n",
              "       [2667.69],\n",
              "       [2831.55],\n",
              "       [2702.93],\n",
              "       [2651.47],\n",
              "       [2294.8 ],\n",
              "       [2103.59],\n",
              "       [2039.13],\n",
              "       [1856.72],\n",
              "       [1827.64],\n",
              "       [1823.05],\n",
              "       [1675.62],\n",
              "       [1341.89],\n",
              "       [1198.9 ],\n",
              "       [1216.74],\n",
              "       [ 940.26],\n",
              "       [ 820.38],\n",
              "       [ 709.15],\n",
              "       [ 607.7 ],\n",
              "       [ 514.94],\n",
              "       [ 485.44],\n",
              "       [ 468.39],\n",
              "       [ 458.82],\n",
              "       [ 421.35],\n",
              "       [ 415.87],\n",
              "       [ 392.9 ],\n",
              "       [ 360.28],\n",
              "       [ 327.28],\n",
              "       [ 279.3 ],\n",
              "       [ 288.21],\n",
              "       [ 270.11],\n",
              "       [ 320.98],\n",
              "       [ 296.04],\n",
              "       [ 296.59],\n",
              "       [ 279.03],\n",
              "       [ 248.99],\n",
              "       [ 232.51],\n",
              "       [ 212.16],\n",
              "       [ 218.26],\n",
              "       [ 200.72],\n",
              "       [ 193.49],\n",
              "       [ 186.33],\n",
              "       [ 152.99],\n",
              "       [ 137.3 ],\n",
              "       [ 121.49],\n",
              "       [ 102.72],\n",
              "       [  98.47],\n",
              "       [  99.53],\n",
              "       [  85.52],\n",
              "       [  71.46],\n",
              "       [  67.35],\n",
              "       [  62.42],\n",
              "       [  58.45],\n",
              "       [  53.09],\n",
              "       [  50.13],\n",
              "       [  45.87],\n",
              "       [  59.55],\n",
              "       [  56.48],\n",
              "       [  48.42],\n",
              "       [  42.16],\n",
              "       [  39.23]])"
            ]
          },
          "metadata": {},
          "execution_count": 168
        }
      ]
    },
    {
      "cell_type": "code",
      "source": [
        "#Individual prediction\n",
        "model.predict([[2089]])"
      ],
      "metadata": {
        "colab": {
          "base_uri": "https://localhost:8080/"
        },
        "id": "Xe0dKmvw5nas",
        "outputId": "abe20097-833f-4930-9258-69e325e31949"
      },
      "execution_count": 169,
      "outputs": [
        {
          "output_type": "execute_result",
          "data": {
            "text/plain": [
              "array([[4642.5557152]])"
            ]
          },
          "metadata": {},
          "execution_count": 169
        }
      ]
    },
    {
      "cell_type": "code",
      "source": [
        "#10.Accuracy\n",
        "m = model.coef_\n",
        "c=model.intercept_\n",
        "y=m*2089+c\n",
        "y"
      ],
      "metadata": {
        "colab": {
          "base_uri": "https://localhost:8080/"
        },
        "id": "LVOIMs6M6fSc",
        "outputId": "f6fa8f7d-2a49-4af7-de0c-32c8c16a7233"
      },
      "execution_count": 172,
      "outputs": [
        {
          "output_type": "execute_result",
          "data": {
            "text/plain": [
              "array([[4642.5557152]])"
            ]
          },
          "metadata": {},
          "execution_count": 172
        }
      ]
    },
    {
      "cell_type": "code",
      "source": [
        "#After cross verifing both values we can conclude that model's prediction are accurate."
      ],
      "metadata": {
        "id": "BvmfTF24FtQU"
      },
      "execution_count": null,
      "outputs": []
    }
  ]
}